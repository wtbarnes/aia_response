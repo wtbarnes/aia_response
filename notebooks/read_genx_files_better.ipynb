{
 "cells": [
  {
   "cell_type": "markdown",
   "metadata": {},
   "source": [
    "# Reading Archaic SSW `.genx` Files\n",
    "Tests for reading `.genx` files better so that they are easier to work with when we are calculating response functions."
   ]
  },
  {
   "cell_type": "code",
   "execution_count": 3,
   "metadata": {
    "collapsed": true
   },
   "outputs": [],
   "source": [
    "from scipy.io import readsav\n",
    "from astropy.table import Table,QTable\n",
    "import astropy.units as u\n",
    "import numpy as np\n",
    "import os"
   ]
  },
  {
   "cell_type": "code",
   "execution_count": 190,
   "metadata": {
    "collapsed": true
   },
   "outputs": [],
   "source": [
    "def genx_to_table(input_dir,channel_list,version):\n",
    "    properties = [('wave','wavelength'),('wavemin','minimum_wavelength'),('wavestep','wavelength_interval'),\n",
    "                  ('wavenumsteps','number_wavelength_intervals'),('effarea','effective_area'),('geoarea','geometric_area_ccd'),\n",
    "                  ('platescale','plate_scale'),('elecperdn','electron_per_dn'),('elecperev','electron_per_ev'),\n",
    "                  ('fp_filter','focal_plane_filter_efficiency'),('ent_filter','entire_filter_efficiency'),\n",
    "                  ('primary','primary_mirror_reflectance'),('secondary','secondary_mirror_reflectance'),\n",
    "                  ('ccd','quantum_efficiency_ccd'),('contam','ccd_contamination')\n",
    "                 ]\n",
    "    unitless = u.m/u.m\n",
    "    units = [u.angstrom,u.angstrom,u.angstrom,unitless,u.cm**2,u.cm**2,1/u.cm,u.electron/u.count,u.electron/u.eV,\n",
    "             unitless,unitless,unitless,unitless,unitless,unitless]\n",
    "    units = {p[1] : u for p,u in zip(properties,units)}\n",
    "    units['channel'] = u.angstrom\n",
    "    \n",
    "    instrument_files = [os.path.join(input_dir,'aia_V{0}_all_fullinst'.format(version)),\n",
    "                        os.path.join(input_dir,'aia_V{0}_fuv_fullinst'.format(version))\n",
    "                       ]\n",
    "    field_name = 'A{0}_FULL'\n",
    "    \n",
    "    #read in values\n",
    "    rows = []\n",
    "    for instr_file in instrument_files:\n",
    "        instrument_data = readsav(instr_file)['data']\n",
    "        for channel in channel_list:\n",
    "            if field_name.format(channel).upper() not in instrument_data.dtype.names:\n",
    "                continue\n",
    "            row = {'channel':channel}\n",
    "            channel_data = instrument_data[field_name.format(channel)][0]\n",
    "            for prop in properties:\n",
    "                if prop[0].upper() not in channel_data.dtype.names:\n",
    "                    print('Cannot find {0} for channel {1} in file {2}'.format(prop[0],channel,instr_file))\n",
    "                    print('Setting {} to 1'.format(prop[1]))\n",
    "                    row[prop[1]] = 1\n",
    "                else:\n",
    "                    row[prop[1]] = channel_data[prop[0]][0]\n",
    "            rows.append(row)\n",
    "    \n",
    "    #assign units\n",
    "    table = QTable(rows=rows,names=tuple(['channel']+[p[1] for p in properties]))\n",
    "    for name in table.colnames:\n",
    "        try:\n",
    "            table[name].unit = units[name]\n",
    "        except TypeError:\n",
    "            pass\n",
    "        \n",
    "    return table"
   ]
  },
  {
   "cell_type": "markdown",
   "metadata": {},
   "source": [
    "Now, test out the function."
   ]
  },
  {
   "cell_type": "code",
   "execution_count": 191,
   "metadata": {
    "collapsed": true
   },
   "outputs": [],
   "source": [
    "channel_list = [94,335,171,193,211,131,304,1600,1700,4500]\n",
    "genx_dir = '/Users/willbarnes/Documents/Projects/gsoc/aia_response/ssw_aia_response_data/'\n",
    "version = 6"
   ]
  },
  {
   "cell_type": "code",
   "execution_count": 192,
   "metadata": {
    "collapsed": false,
    "scrolled": true
   },
   "outputs": [
    {
     "name": "stdout",
     "output_type": "stream",
     "text": [
      "Cannot find contam for channel 1600 in file /Users/willbarnes/Documents/Projects/gsoc/aia_response/ssw_aia_response_data/aia_V6_fuv_fullinst\n",
      "Setting ccd_contamination to 1\n",
      "Cannot find contam for channel 1700 in file /Users/willbarnes/Documents/Projects/gsoc/aia_response/ssw_aia_response_data/aia_V6_fuv_fullinst\n",
      "Setting ccd_contamination to 1\n",
      "Cannot find contam for channel 4500 in file /Users/willbarnes/Documents/Projects/gsoc/aia_response/ssw_aia_response_data/aia_V6_fuv_fullinst\n",
      "Setting ccd_contamination to 1\n"
     ]
    }
   ],
   "source": [
    "table = genx_to_table(genx_dir,channel_list,version)"
   ]
  },
  {
   "cell_type": "code",
   "execution_count": 193,
   "metadata": {
    "collapsed": false
   },
   "outputs": [
    {
     "data": {
      "text/html": [
       "&lt;QTable length=10&gt;\n",
       "<table id=\"table4496508624\" class=\"table-striped table-bordered table-condensed\">\n",
       "<thead><tr><th>channel</th><th>wavelength</th><th>minimum_wavelength</th><th>wavelength_interval</th><th>number_wavelength_intervals</th><th>effective_area</th><th>geometric_area_ccd</th><th>plate_scale</th><th>electron_per_dn</th><th>electron_per_ev</th><th>focal_plane_filter_efficiency</th><th>entire_filter_efficiency</th><th>primary_mirror_reflectance</th><th>secondary_mirror_reflectance</th><th>quantum_efficiency_ccd</th><th>ccd_contamination</th></tr></thead>\n",
       "<thead><tr><th>Angstrom</th><th>Angstrom</th><th>Angstrom</th><th>Angstrom</th><th></th><th>cm2</th><th>cm2</th><th>1 / cm</th><th>electron / ct</th><th>electron / eV</th><th></th><th></th><th></th><th></th><th></th><th></th></tr></thead>\n",
       "<thead><tr><th>float64</th><th>object</th><th>float32</th><th>float32</th><th>int32</th><th>object</th><th>float32</th><th>float32</th><th>float32</th><th>float32</th><th>object</th><th>object</th><th>object</th><th>object</th><th>object</th><th>object</th></tr></thead>\n",
       "<tr><td>94.0</td><td>[  25.           25.10000038   25.20000076 ...,  899.79998779  899.90002441\n",
       "  900.        ]</td><td>25.0</td><td>0.1</td><td>8751</td><td>[  5.27489294e-12   5.14545784e-12   5.01929488e-12 ...,   2.45101570e-14\n",
       "   2.45180802e-14   2.45260016e-14]</td><td>83.0</td><td>8.46158e-12</td><td>18.3</td><td>0.273973</td><td>[  5.17922007e-02   5.09420000e-02   5.01057990e-02 ...,   1.00001000e-06\n",
       "   1.00001000e-06   1.00001000e-06]</td><td>[  5.17922007e-02   5.09420000e-02   5.01057990e-02 ...,   1.00001000e-06\n",
       "   1.00001000e-06   1.00001000e-06]</td><td>[  5.36785637e-06   5.39225630e-06   5.41665577e-06 ...,   8.52360651e-02\n",
       "   8.52409825e-02   8.52458999e-02]</td><td>[  5.36785637e-06   5.39225630e-06   5.41665577e-06 ...,   8.52360651e-02\n",
       "   8.52409825e-02   8.52458999e-02]</td><td>[ 0.85138208  0.8509894   0.85064727 ...,  0.09263941  0.09265867\n",
       "  0.09267791]</td><td>[ 0.96578515  0.96544755  0.96510959 ...,  0.43874961  0.43874961\n",
       "  0.43874961]</td></tr>\n",
       "<tr><td>335.0</td><td>[  25.           25.10000038   25.20000076 ...,  899.79998779  899.90002441\n",
       "  900.        ]</td><td>25.0</td><td>0.1</td><td>8751</td><td>[  0.00000000e+00   0.00000000e+00   0.00000000e+00 ...,   1.14710755e-10\n",
       "   1.13935743e-10   1.13166643e-10]</td><td>83.0</td><td>8.46158e-12</td><td>17.6</td><td>0.273973</td><td>[  5.95474005e-01   5.93567014e-01   5.91665983e-01 ...,   3.08021008e-05\n",
       "   3.06914008e-05   3.05811991e-05]</td><td>[  5.95474005e-01   5.93567014e-01   5.91665983e-01 ...,   3.08021008e-05\n",
       "   3.06914008e-05   3.05811991e-05]</td><td>[ 0.          0.          0.         ...,  0.18931125  0.18933147\n",
       "  0.18935168]</td><td>[ 0.          0.          0.         ...,  0.18931125  0.18933147\n",
       "  0.18935168]</td><td>[ 0.85138208  0.8509894   0.85064727 ...,  0.09263941  0.09265867\n",
       "  0.09267791]</td><td>[ 0.96578515  0.96544755  0.96510959 ...,  0.43874961  0.43874961\n",
       "  0.43874961]</td></tr>\n",
       "<tr><td>171.0</td><td>[  25.           25.10000038   25.20000076 ...,  899.79998779  899.90002441\n",
       "  900.        ]</td><td>25.0</td><td>0.1</td><td>8751</td><td>[  4.46234338e-08   4.47057964e-08   4.47890933e-08 ...,   2.74987561e-10\n",
       "   2.73075645e-10   2.71178691e-10]</td><td>83.0</td><td>8.46158e-12</td><td>17.7</td><td>0.273973</td><td>[  5.95474005e-01   5.93567014e-01   5.91665983e-01 ...,   3.08021008e-05\n",
       "   3.06914008e-05   3.05811991e-05]</td><td>[  5.95474005e-01   5.93567014e-01   5.91665983e-01 ...,   3.08021008e-05\n",
       "   3.06914008e-05   3.05811991e-05]</td><td>[  4.29414904e-05   4.31366789e-05   4.33318710e-05 ...,   2.93110162e-01\n",
       "   2.93112487e-01   2.93114781e-01]</td><td>[  4.29414904e-05   4.31366789e-05   4.33318710e-05 ...,   2.93110162e-01\n",
       "   2.93112487e-01   2.93114781e-01]</td><td>[ 0.85138208  0.8509894   0.85064727 ...,  0.09263941  0.09265867\n",
       "  0.09267791]</td><td>[ 0.96578515  0.96544755  0.96510959 ...,  0.43874961  0.43874961\n",
       "  0.43874961]</td></tr>\n",
       "<tr><td>193.0</td><td>[  25.           25.10000038   25.20000076 ...,  899.79998779  899.90002441\n",
       "  900.        ]</td><td>25.0</td><td>0.1</td><td>8751</td><td>[  0.00000000e+00   0.00000000e+00   0.00000000e+00 ...,   3.31152911e-10\n",
       "   3.28830518e-10   3.26526500e-10]</td><td>83.0</td><td>8.46158e-12</td><td>18.3</td><td>0.273973</td><td>[  5.95474005e-01   5.93567014e-01   5.91665983e-01 ...,   3.08021008e-05\n",
       "   3.06914008e-05   3.05811991e-05]</td><td>[  5.95474005e-01   5.93567014e-01   5.91665983e-01 ...,   3.08021008e-05\n",
       "   3.06914008e-05   3.05811991e-05]</td><td>[ 0.          0.          0.         ...,  0.32165378  0.32164654\n",
       "  0.32163933]</td><td>[ 0.          0.          0.         ...,  0.32165378  0.32164654\n",
       "  0.32163933]</td><td>[ 0.85138208  0.8509894   0.85064727 ...,  0.09263941  0.09265867\n",
       "  0.09267791]</td><td>[ 0.96578515  0.96544755  0.96510959 ...,  0.43874961  0.43874961\n",
       "  0.43874961]</td></tr>\n",
       "<tr><td>211.0</td><td>[  25.           25.10000038   25.20000076 ...,  899.79998779  899.90002441\n",
       "  900.        ]</td><td>25.0</td><td>0.1</td><td>8751</td><td>[  2.78900547e-09   2.79415358e-09   2.79935963e-09 ...,   2.51502985e-10\n",
       "   2.49762072e-10   2.48034815e-10]</td><td>83.0</td><td>8.46158e-12</td><td>18.3</td><td>0.273973</td><td>[  5.95474005e-01   5.93567014e-01   5.91665983e-01 ...,   3.08021008e-05\n",
       "   3.06914008e-05   3.05811991e-05]</td><td>[  5.95474005e-01   5.93567014e-01   5.91665983e-01 ...,   3.08021008e-05\n",
       "   3.06914008e-05   3.05811991e-05]</td><td>[  1.07354517e-05   1.07842488e-05   1.08330469e-05 ...,   2.80314744e-01\n",
       "   2.80321300e-01   2.80327857e-01]</td><td>[  1.07354517e-05   1.07842488e-05   1.08330469e-05 ...,   2.80314744e-01\n",
       "   2.80321300e-01   2.80327857e-01]</td><td>[ 0.85138208  0.8509894   0.85064727 ...,  0.09263941  0.09265867\n",
       "  0.09267791]</td><td>[ 0.96578515  0.96544755  0.96510959 ...,  0.43874961  0.43874961\n",
       "  0.43874961]</td></tr>\n",
       "<tr><td>131.0</td><td>[  25.           25.10000038   25.20000076 ...,  899.79998779  899.90002441\n",
       "  900.        ]</td><td>25.0</td><td>0.1</td><td>8751</td><td>[  1.89890617e-10   1.85231025e-10   1.80689325e-10 ...,   1.89969934e-13\n",
       "   1.90052726e-13   1.90135505e-13]</td><td>83.0</td><td>8.46158e-12</td><td>17.6</td><td>0.273973</td><td>[  5.17922007e-02   5.09420000e-02   5.01057990e-02 ...,   1.00001000e-06\n",
       "   1.00001000e-06   1.00001000e-06]</td><td>[  5.17922007e-02   5.09420000e-02   5.01057990e-02 ...,   1.00001000e-06\n",
       "   1.00001000e-06   1.00001000e-06]</td><td>[  3.22066699e-05   3.23530621e-05   3.24994580e-05 ...,   2.37297297e-01\n",
       "   2.37324327e-01   2.37351358e-01]</td><td>[  3.22066699e-05   3.23530621e-05   3.24994580e-05 ...,   2.37297297e-01\n",
       "   2.37324327e-01   2.37351358e-01]</td><td>[ 0.85138208  0.8509894   0.85064727 ...,  0.09263941  0.09265867\n",
       "  0.09267791]</td><td>[ 0.96578515  0.96544755  0.96510959 ...,  0.43874961  0.43874961\n",
       "  0.43874961]</td></tr>\n",
       "<tr><td>304.0</td><td>[  25.           25.10000038   25.20000076 ...,  899.79998779  899.90002441\n",
       "  900.        ]</td><td>25.0</td><td>0.1</td><td>8751</td><td>[  0.00000000e+00   0.00000000e+00   0.00000000e+00 ...,   1.50464766e-10\n",
       "   1.49468438e-10   1.48479590e-10]</td><td>83.0</td><td>8.46158e-12</td><td>18.3</td><td>0.273973</td><td>[  5.95474005e-01   5.93567014e-01   5.91665983e-01 ...,   3.08021008e-05\n",
       "   3.06914008e-05   3.05811991e-05]</td><td>[  5.95474005e-01   5.93567014e-01   5.91665983e-01 ...,   3.08021008e-05\n",
       "   3.06914008e-05   3.05811991e-05]</td><td>[ 0.          0.          0.         ...,  0.21681622  0.21685407\n",
       "  0.2168919 ]</td><td>[ 0.          0.          0.         ...,  0.21681622  0.21685407\n",
       "  0.2168919 ]</td><td>[ 0.85138208  0.8509894   0.85064727 ...,  0.09263941  0.09265867\n",
       "  0.09267791]</td><td>[ 0.96578515  0.96544755  0.96510959 ...,  0.43874961  0.43874961\n",
       "  0.43874961]</td></tr>\n",
       "<tr><td>1600.0</td><td>[  1200.   1201.   1202. ...,   9998.   9999.  10000.]</td><td>1200.0</td><td>1.0</td><td>8801</td><td>[  1.72908514e-07   1.74622699e-07   1.79776137e-07 ...,   4.82054254e-08\n",
       "   4.82082108e-08   4.82110032e-08]</td><td>30.7828</td><td>8.46158e-12</td><td>17.7</td><td>0.273973</td><td>[  6.89065026e-04   6.82173995e-04   6.75281975e-04 ...,   9.98920004e-05\n",
       "   9.99460026e-05   9.99999975e-05]</td><td>[  3.61691997e-03   3.53040989e-03   3.51212989e-03 ...,   9.99421027e-05\n",
       "   9.99710974e-05   9.99999975e-05]</td><td>[ 0.131809    0.134442    0.13715    ...,  0.93633997  0.93636799\n",
       "  0.93639702]</td><td>[ 0.131809    0.134442    0.13715    ...,  0.93633997  0.93636799\n",
       "  0.93639702]</td><td>[ 0.12972373  0.13031748  0.13091122 ...,  0.17891297  0.17876408\n",
       "  0.17861518]</td><td>1</td></tr>\n",
       "<tr><td>1700.0</td><td>[  1200.   1201.   1202. ...,   9998.   9999.  10000.]</td><td>1200.0</td><td>1.0</td><td>8801</td><td>[  1.00372837e-07   9.98574237e-08   1.01217751e-07 ...,   4.82554192e-08\n",
       "   4.82331970e-08   4.82110032e-08]</td><td>30.7828</td><td>8.46158e-12</td><td>17.7</td><td>0.273973</td><td>[  3.99999990e-04   3.90099012e-04   3.80198006e-04 ...,   9.99956028e-05\n",
       "   9.99978001e-05   9.99999975e-05]</td><td>[  3.61691997e-03   3.53040989e-03   3.51212989e-03 ...,   9.99421027e-05\n",
       "   9.99710974e-05   9.99999975e-05]</td><td>[ 0.131809    0.134442    0.13715    ...,  0.93633997  0.93636799\n",
       "  0.93639702]</td><td>[ 0.131809    0.134442    0.13715    ...,  0.93633997  0.93636799\n",
       "  0.93639702]</td><td>[ 0.12972373  0.13031748  0.13091122 ...,  0.17891297  0.17876408\n",
       "  0.17861518]</td><td>1</td></tr>\n",
       "<tr><td>4500.0</td><td>[  1200.   1201.   1202. ...,   9998.   9999.  10000.]</td><td>1200.0</td><td>1.0</td><td>8801</td><td>[  2.50932093e-08   2.55979700e-08   2.66223807e-08 ...,   4.82575437e-08\n",
       "   4.82342593e-08   4.82110032e-08]</td><td>30.7828</td><td>8.46158e-12</td><td>17.7</td><td>0.273973</td><td>[  9.99999975e-05   9.99999975e-05   9.99999975e-05 ...,   9.99999975e-05\n",
       "   9.99999975e-05   9.99999975e-05]</td><td>[  3.61691997e-03   3.53040989e-03   3.51212989e-03 ...,   9.99421027e-05\n",
       "   9.99710974e-05   9.99999975e-05]</td><td>[ 0.131809    0.134442    0.13715    ...,  0.93633997  0.93636799\n",
       "  0.93639702]</td><td>[ 0.131809    0.134442    0.13715    ...,  0.93633997  0.93636799\n",
       "  0.93639702]</td><td>[ 0.12972373  0.13031748  0.13091122 ...,  0.17891297  0.17876408\n",
       "  0.17861518]</td><td>1</td></tr>\n",
       "</table>"
      ],
      "text/plain": [
       "<QTable length=10>\n",
       "channel  ...\n",
       "Angstrom ...\n",
       "float64  ...\n",
       "-------- ...\n",
       "    94.0 ...\n",
       "   335.0 ...\n",
       "   171.0 ...\n",
       "   193.0 ...\n",
       "   211.0 ...\n",
       "   131.0 ...\n",
       "   304.0 ...\n",
       "  1600.0 ...\n",
       "  1700.0 ...\n",
       "  4500.0 ..."
      ]
     },
     "execution_count": 193,
     "metadata": {},
     "output_type": "execute_result"
    }
   ],
   "source": [
    "table"
   ]
  },
  {
   "cell_type": "code",
   "execution_count": null,
   "metadata": {
    "collapsed": true
   },
   "outputs": [],
   "source": []
  }
 ],
 "metadata": {
  "anaconda-cloud": {},
  "kernelspec": {
   "display_name": "Python [conda env:sunpy]",
   "language": "python",
   "name": "conda-env-sunpy-py"
  },
  "language_info": {
   "codemirror_mode": {
    "name": "ipython",
    "version": 2
   },
   "file_extension": ".py",
   "mimetype": "text/x-python",
   "name": "python",
   "nbconvert_exporter": "python",
   "pygments_lexer": "ipython2",
   "version": "2.7.11"
  }
 },
 "nbformat": 4,
 "nbformat_minor": 0
}
